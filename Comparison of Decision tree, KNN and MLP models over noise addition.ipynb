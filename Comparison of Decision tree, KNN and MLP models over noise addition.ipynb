{
 "cells": [
  {
   "cell_type": "markdown",
   "metadata": {},
   "source": [
    "#### Importing libraries"
   ]
  },
  {
   "cell_type": "code",
   "execution_count": 1,
   "metadata": {},
   "outputs": [],
   "source": [
    "import numpy as np\n",
    "import pandas as pd\n",
    "from sklearn.neighbors import KNeighborsClassifier \n",
    "from sklearn.model_selection import KFold\n",
    "from sklearn import preprocessing\n",
    "from sklearn.metrics import accuracy_score,precision_score,recall_score,f1_score\n",
    "import seaborn as sns\n",
    "import matplotlib.pyplot as plt\n",
    "from sklearn.tree import DecisionTreeClassifier\n",
    "from keras.models import Sequential\n",
    "from keras.layers import Dense\n",
    "from sklearn.preprocessing import StandardScaler\n",
    "from sklearn.neural_network import MLPClassifier\n",
    "from sklearn.model_selection import train_test_split\n",
    "import warnings\n",
    "warnings.filterwarnings(\"ignore\")"
   ]
  },
  {
   "cell_type": "markdown",
   "metadata": {},
   "source": [
    "#### Reading data from text files"
   ]
  },
  {
   "cell_type": "code",
   "execution_count": 2,
   "metadata": {},
   "outputs": [
    {
     "data": {
      "text/html": [
       "<div>\n",
       "<style scoped>\n",
       "    .dataframe tbody tr th:only-of-type {\n",
       "        vertical-align: middle;\n",
       "    }\n",
       "\n",
       "    .dataframe tbody tr th {\n",
       "        vertical-align: top;\n",
       "    }\n",
       "\n",
       "    .dataframe thead th {\n",
       "        text-align: right;\n",
       "    }\n",
       "</style>\n",
       "<table border=\"1\" class=\"dataframe\">\n",
       "  <thead>\n",
       "    <tr style=\"text-align: right;\">\n",
       "      <th></th>\n",
       "      <th>count</th>\n",
       "      <th>mean</th>\n",
       "      <th>std</th>\n",
       "      <th>min</th>\n",
       "      <th>25%</th>\n",
       "      <th>50%</th>\n",
       "      <th>75%</th>\n",
       "      <th>max</th>\n",
       "    </tr>\n",
       "  </thead>\n",
       "  <tbody>\n",
       "    <tr>\n",
       "      <th>preg</th>\n",
       "      <td>768.0</td>\n",
       "      <td>3.845052</td>\n",
       "      <td>3.369578</td>\n",
       "      <td>0.000</td>\n",
       "      <td>1.00000</td>\n",
       "      <td>3.0000</td>\n",
       "      <td>6.00000</td>\n",
       "      <td>17.00</td>\n",
       "    </tr>\n",
       "    <tr>\n",
       "      <th>plas</th>\n",
       "      <td>768.0</td>\n",
       "      <td>120.894531</td>\n",
       "      <td>31.972618</td>\n",
       "      <td>0.000</td>\n",
       "      <td>99.00000</td>\n",
       "      <td>117.0000</td>\n",
       "      <td>140.25000</td>\n",
       "      <td>199.00</td>\n",
       "    </tr>\n",
       "    <tr>\n",
       "      <th>pres</th>\n",
       "      <td>768.0</td>\n",
       "      <td>69.105469</td>\n",
       "      <td>19.355807</td>\n",
       "      <td>0.000</td>\n",
       "      <td>62.00000</td>\n",
       "      <td>72.0000</td>\n",
       "      <td>80.00000</td>\n",
       "      <td>122.00</td>\n",
       "    </tr>\n",
       "    <tr>\n",
       "      <th>skin</th>\n",
       "      <td>768.0</td>\n",
       "      <td>20.536458</td>\n",
       "      <td>15.952218</td>\n",
       "      <td>0.000</td>\n",
       "      <td>0.00000</td>\n",
       "      <td>23.0000</td>\n",
       "      <td>32.00000</td>\n",
       "      <td>99.00</td>\n",
       "    </tr>\n",
       "    <tr>\n",
       "      <th>insu</th>\n",
       "      <td>768.0</td>\n",
       "      <td>79.799479</td>\n",
       "      <td>115.244002</td>\n",
       "      <td>0.000</td>\n",
       "      <td>0.00000</td>\n",
       "      <td>30.5000</td>\n",
       "      <td>127.25000</td>\n",
       "      <td>846.00</td>\n",
       "    </tr>\n",
       "    <tr>\n",
       "      <th>mass</th>\n",
       "      <td>768.0</td>\n",
       "      <td>31.992578</td>\n",
       "      <td>7.884160</td>\n",
       "      <td>0.000</td>\n",
       "      <td>27.30000</td>\n",
       "      <td>32.0000</td>\n",
       "      <td>36.60000</td>\n",
       "      <td>67.10</td>\n",
       "    </tr>\n",
       "    <tr>\n",
       "      <th>pedi</th>\n",
       "      <td>768.0</td>\n",
       "      <td>0.471876</td>\n",
       "      <td>0.331329</td>\n",
       "      <td>0.078</td>\n",
       "      <td>0.24375</td>\n",
       "      <td>0.3725</td>\n",
       "      <td>0.62625</td>\n",
       "      <td>2.42</td>\n",
       "    </tr>\n",
       "    <tr>\n",
       "      <th>age</th>\n",
       "      <td>768.0</td>\n",
       "      <td>33.240885</td>\n",
       "      <td>11.760232</td>\n",
       "      <td>21.000</td>\n",
       "      <td>24.00000</td>\n",
       "      <td>29.0000</td>\n",
       "      <td>41.00000</td>\n",
       "      <td>81.00</td>\n",
       "    </tr>\n",
       "  </tbody>\n",
       "</table>\n",
       "</div>"
      ],
      "text/plain": [
       "      count        mean         std     min       25%       50%        75%  \\\n",
       "preg  768.0    3.845052    3.369578   0.000   1.00000    3.0000    6.00000   \n",
       "plas  768.0  120.894531   31.972618   0.000  99.00000  117.0000  140.25000   \n",
       "pres  768.0   69.105469   19.355807   0.000  62.00000   72.0000   80.00000   \n",
       "skin  768.0   20.536458   15.952218   0.000   0.00000   23.0000   32.00000   \n",
       "insu  768.0   79.799479  115.244002   0.000   0.00000   30.5000  127.25000   \n",
       "mass  768.0   31.992578    7.884160   0.000  27.30000   32.0000   36.60000   \n",
       "pedi  768.0    0.471876    0.331329   0.078   0.24375    0.3725    0.62625   \n",
       "age   768.0   33.240885   11.760232  21.000  24.00000   29.0000   41.00000   \n",
       "\n",
       "         max  \n",
       "preg   17.00  \n",
       "plas  199.00  \n",
       "pres  122.00  \n",
       "skin   99.00  \n",
       "insu  846.00  \n",
       "mass   67.10  \n",
       "pedi    2.42  \n",
       "age    81.00  "
      ]
     },
     "execution_count": 2,
     "metadata": {},
     "output_type": "execute_result"
    }
   ],
   "source": [
    "dia_all = pd.read_csv('task1_diabetes.txt')\n",
    "train = pd.read_csv('task2_train.txt')\n",
    "test = pd.read_csv('task2_test.txt')\n",
    "\n",
    "# Splitting X independent and y dependent variables\n",
    "train_X = train.iloc[:,:-1]\n",
    "train_y = train.iloc[:,-1:]\n",
    "test_X = test.iloc[:,:-1]\n",
    "test_y = test.iloc[:,-1:]\n",
    "\n",
    "# Variable summary of full dataset\n",
    "dia_all.describe().T"
   ]
  },
  {
   "cell_type": "markdown",
   "metadata": {},
   "source": [
    "## Task 1"
   ]
  },
  {
   "cell_type": "markdown",
   "metadata": {},
   "source": [
    "#### 1.1) User defined Distance function"
   ]
  },
  {
   "cell_type": "code",
   "execution_count": 3,
   "metadata": {},
   "outputs": [],
   "source": [
    "def distance_cw2(x,y):\n",
    "    col = np.random.choice(len(x),3,replace=False)\n",
    "    d=0\n",
    "    for i in col:\n",
    "        d += (x[i]-y[i])**2\n",
    "    d=np.sqrt(d)\n",
    "    return d"
   ]
  },
  {
   "cell_type": "markdown",
   "metadata": {},
   "source": [
    "#### 1.2) Prepare Data"
   ]
  },
  {
   "cell_type": "code",
   "execution_count": 4,
   "metadata": {},
   "outputs": [
    {
     "data": {
      "text/plain": [
       "preg     111\n",
       "plas       5\n",
       "pres      35\n",
       "skin     227\n",
       "insu     374\n",
       "mass      11\n",
       "pedi       0\n",
       "age        0\n",
       "class      0\n",
       "dtype: int64"
      ]
     },
     "execution_count": 4,
     "metadata": {},
     "output_type": "execute_result"
    }
   ],
   "source": [
    "# Count zeros in multiple columns \n",
    "(dia_all == 0).astype(int).sum(axis=0)"
   ]
  },
  {
   "cell_type": "code",
   "execution_count": 5,
   "metadata": {},
   "outputs": [],
   "source": [
    "# We could see insu,skin and mass which usually can't be 0 so replace with median \n",
    "dia_all['mass'].replace(0,dia_all['mass'].median(), inplace = True)\n",
    "dia_all['insu'].replace(0,dia_all['insu'].median(), inplace = True)\n",
    "dia_all['skin'].replace(0,dia_all['skin'].median(), inplace = True)\n",
    "dia_all['pres'].replace(0,dia_all['pres'].median(), inplace = True)\n",
    "\n",
    "# Split dependent and independent variables\n",
    "y = dia_all.iloc[:,-1:].to_numpy()\n",
    "X = dia_all.iloc[:,:-1].to_numpy()"
   ]
  },
  {
   "cell_type": "code",
   "execution_count": 6,
   "metadata": {},
   "outputs": [],
   "source": [
    "# Change dependent variable to binary using label encoding\n",
    "le = preprocessing.LabelEncoder()\n",
    "y = le.fit_transform(y)"
   ]
  },
  {
   "cell_type": "markdown",
   "metadata": {},
   "source": [
    "#### 1.3) Function KNeighborsClassifier with multiple distance function and Neighbours experiment"
   ]
  },
  {
   "cell_type": "code",
   "execution_count": 7,
   "metadata": {
    "scrolled": true
   },
   "outputs": [],
   "source": [
    "def KNN_model(distance_metrics,neighbours,n_splits):\n",
    "\n",
    "    k_fold_performance=[]\n",
    "\n",
    "    for dist in (distance_metrics):\n",
    "\n",
    "        for i in (neighbours):\n",
    "\n",
    "            # Define KNN with multiple input parameters\n",
    "            KNN = KNeighborsClassifier(n_neighbors=i,metric=dist) \n",
    "\n",
    "            # KFold definition with number of splits\n",
    "            kf = KFold(n_splits=n_splits)\n",
    "            j=0\n",
    "            for train_index, test_index in kf.split(X):\n",
    "\n",
    "                X_train, X_test = X[train_index], X[test_index]\n",
    "                y_train, y_test = y[train_index], y[test_index]\n",
    "\n",
    "                # Standardize the train data inorder for the KNN to find distance effectively \n",
    "                scaler = StandardScaler()\n",
    "                scaled_X_train = scaler.fit_transform(X_train)\n",
    "                \n",
    "                # Fit transform the scaled data\n",
    "                KNN = KNN.fit(scaled_X_train,y_train)\n",
    "                \n",
    "                # Standardize the test data\n",
    "                scaled_X_test = scaler.transform(X_test)\n",
    "                \n",
    "                # Predicting the data from the model\n",
    "                y_pred = KNN.predict(scaled_X_test)\n",
    "\n",
    "                # Metrics creation\n",
    "                accuracy=accuracy_score(y_test, y_pred)\n",
    "                precision=precision_score(y_test, y_pred)\n",
    "                recall=recall_score(y_test, y_pred)\n",
    "                f1=f1_score(y_test, y_pred)\n",
    "                k_fold_performance.append((dist,i,j,accuracy,precision,recall,f1))\n",
    "                j=j+1\n",
    "\n",
    "    cols=['Distance metric','n_neighbours','Split','Accuracy','Precision','Recall','F1_score']\n",
    "    k_fold_performance = pd.DataFrame(k_fold_performance, columns=cols)\n",
    "    k_fold_performance.iloc[int(len(k_fold_performance)*.75):,0] = 'distance_cw2'\n",
    "    return k_fold_performance"
   ]
  },
  {
   "cell_type": "code",
   "execution_count": 8,
   "metadata": {
    "scrolled": true
   },
   "outputs": [
    {
     "name": "stdout",
     "output_type": "stream",
     "text": [
      "Wall time: 38.4 s\n"
     ]
    },
    {
     "data": {
      "text/html": [
       "<div>\n",
       "<style scoped>\n",
       "    .dataframe tbody tr th:only-of-type {\n",
       "        vertical-align: middle;\n",
       "    }\n",
       "\n",
       "    .dataframe tbody tr th {\n",
       "        vertical-align: top;\n",
       "    }\n",
       "\n",
       "    .dataframe thead th {\n",
       "        text-align: right;\n",
       "    }\n",
       "</style>\n",
       "<table border=\"1\" class=\"dataframe\">\n",
       "  <thead>\n",
       "    <tr style=\"text-align: right;\">\n",
       "      <th></th>\n",
       "      <th>Distance metric</th>\n",
       "      <th>n_neighbours</th>\n",
       "      <th>Split</th>\n",
       "      <th>Accuracy</th>\n",
       "      <th>Precision</th>\n",
       "      <th>Recall</th>\n",
       "      <th>F1_score</th>\n",
       "    </tr>\n",
       "  </thead>\n",
       "  <tbody>\n",
       "    <tr>\n",
       "      <th>0</th>\n",
       "      <td>euclidean</td>\n",
       "      <td>1</td>\n",
       "      <td>0</td>\n",
       "      <td>0.623377</td>\n",
       "      <td>0.560000</td>\n",
       "      <td>0.437500</td>\n",
       "      <td>0.491228</td>\n",
       "    </tr>\n",
       "    <tr>\n",
       "      <th>1</th>\n",
       "      <td>euclidean</td>\n",
       "      <td>1</td>\n",
       "      <td>1</td>\n",
       "      <td>0.779221</td>\n",
       "      <td>0.608696</td>\n",
       "      <td>0.636364</td>\n",
       "      <td>0.622222</td>\n",
       "    </tr>\n",
       "    <tr>\n",
       "      <th>2</th>\n",
       "      <td>euclidean</td>\n",
       "      <td>1</td>\n",
       "      <td>2</td>\n",
       "      <td>0.649351</td>\n",
       "      <td>0.620690</td>\n",
       "      <td>0.529412</td>\n",
       "      <td>0.571429</td>\n",
       "    </tr>\n",
       "    <tr>\n",
       "      <th>3</th>\n",
       "      <td>euclidean</td>\n",
       "      <td>1</td>\n",
       "      <td>3</td>\n",
       "      <td>0.701299</td>\n",
       "      <td>0.612903</td>\n",
       "      <td>0.633333</td>\n",
       "      <td>0.622951</td>\n",
       "    </tr>\n",
       "    <tr>\n",
       "      <th>4</th>\n",
       "      <td>euclidean</td>\n",
       "      <td>1</td>\n",
       "      <td>4</td>\n",
       "      <td>0.701299</td>\n",
       "      <td>0.583333</td>\n",
       "      <td>0.518519</td>\n",
       "      <td>0.549020</td>\n",
       "    </tr>\n",
       "    <tr>\n",
       "      <th>...</th>\n",
       "      <td>...</td>\n",
       "      <td>...</td>\n",
       "      <td>...</td>\n",
       "      <td>...</td>\n",
       "      <td>...</td>\n",
       "      <td>...</td>\n",
       "      <td>...</td>\n",
       "    </tr>\n",
       "    <tr>\n",
       "      <th>155</th>\n",
       "      <td>distance_cw2</td>\n",
       "      <td>7</td>\n",
       "      <td>5</td>\n",
       "      <td>0.688312</td>\n",
       "      <td>0.687500</td>\n",
       "      <td>0.366667</td>\n",
       "      <td>0.478261</td>\n",
       "    </tr>\n",
       "    <tr>\n",
       "      <th>156</th>\n",
       "      <td>distance_cw2</td>\n",
       "      <td>7</td>\n",
       "      <td>6</td>\n",
       "      <td>0.779221</td>\n",
       "      <td>0.411765</td>\n",
       "      <td>0.500000</td>\n",
       "      <td>0.451613</td>\n",
       "    </tr>\n",
       "    <tr>\n",
       "      <th>157</th>\n",
       "      <td>distance_cw2</td>\n",
       "      <td>7</td>\n",
       "      <td>7</td>\n",
       "      <td>0.701299</td>\n",
       "      <td>0.583333</td>\n",
       "      <td>0.280000</td>\n",
       "      <td>0.378378</td>\n",
       "    </tr>\n",
       "    <tr>\n",
       "      <th>158</th>\n",
       "      <td>distance_cw2</td>\n",
       "      <td>7</td>\n",
       "      <td>8</td>\n",
       "      <td>0.671053</td>\n",
       "      <td>0.461538</td>\n",
       "      <td>0.250000</td>\n",
       "      <td>0.324324</td>\n",
       "    </tr>\n",
       "    <tr>\n",
       "      <th>159</th>\n",
       "      <td>distance_cw2</td>\n",
       "      <td>7</td>\n",
       "      <td>9</td>\n",
       "      <td>0.644737</td>\n",
       "      <td>0.636364</td>\n",
       "      <td>0.233333</td>\n",
       "      <td>0.341463</td>\n",
       "    </tr>\n",
       "  </tbody>\n",
       "</table>\n",
       "<p>160 rows × 7 columns</p>\n",
       "</div>"
      ],
      "text/plain": [
       "    Distance metric  n_neighbours  Split  Accuracy  Precision    Recall  \\\n",
       "0         euclidean             1      0  0.623377   0.560000  0.437500   \n",
       "1         euclidean             1      1  0.779221   0.608696  0.636364   \n",
       "2         euclidean             1      2  0.649351   0.620690  0.529412   \n",
       "3         euclidean             1      3  0.701299   0.612903  0.633333   \n",
       "4         euclidean             1      4  0.701299   0.583333  0.518519   \n",
       "..              ...           ...    ...       ...        ...       ...   \n",
       "155    distance_cw2             7      5  0.688312   0.687500  0.366667   \n",
       "156    distance_cw2             7      6  0.779221   0.411765  0.500000   \n",
       "157    distance_cw2             7      7  0.701299   0.583333  0.280000   \n",
       "158    distance_cw2             7      8  0.671053   0.461538  0.250000   \n",
       "159    distance_cw2             7      9  0.644737   0.636364  0.233333   \n",
       "\n",
       "     F1_score  \n",
       "0    0.491228  \n",
       "1    0.622222  \n",
       "2    0.571429  \n",
       "3    0.622951  \n",
       "4    0.549020  \n",
       "..        ...  \n",
       "155  0.478261  \n",
       "156  0.451613  \n",
       "157  0.378378  \n",
       "158  0.324324  \n",
       "159  0.341463  \n",
       "\n",
       "[160 rows x 7 columns]"
      ]
     },
     "execution_count": 8,
     "metadata": {},
     "output_type": "execute_result"
    }
   ],
   "source": [
    "%%time\n",
    "# KNN_model(Type of distance metrics, K neighbours, n folds)\n",
    "k_fold_performance = KNN_model(['euclidean','manhattan','chebyshev',distance_cw2],[1,3,5,7],10)\n",
    "k_fold_performance"
   ]
  },
  {
   "cell_type": "markdown",
   "metadata": {},
   "source": [
    "#### 1.4) Aggregation and evaluation "
   ]
  },
  {
   "cell_type": "code",
   "execution_count": 9,
   "metadata": {},
   "outputs": [
    {
     "name": "stdout",
     "output_type": "stream",
     "text": [
      "\tDistance and n_neighbours with various metrics\n"
     ]
    },
    {
     "data": {
      "text/html": [
       "<div>\n",
       "<style scoped>\n",
       "    .dataframe tbody tr th:only-of-type {\n",
       "        vertical-align: middle;\n",
       "    }\n",
       "\n",
       "    .dataframe tbody tr th {\n",
       "        vertical-align: top;\n",
       "    }\n",
       "\n",
       "    .dataframe thead th {\n",
       "        text-align: right;\n",
       "    }\n",
       "</style>\n",
       "<table border=\"1\" class=\"dataframe\">\n",
       "  <thead>\n",
       "    <tr style=\"text-align: right;\">\n",
       "      <th></th>\n",
       "      <th>Distance metric</th>\n",
       "      <th>n_neighbours</th>\n",
       "      <th>Avg_Accuracy</th>\n",
       "      <th>Accuracy SD</th>\n",
       "      <th>Avg_Precision</th>\n",
       "      <th>Precision SD</th>\n",
       "      <th>Avg_Recall</th>\n",
       "      <th>Recall SD</th>\n",
       "      <th>Avg_F1_score</th>\n",
       "      <th>F1_score SD</th>\n",
       "    </tr>\n",
       "  </thead>\n",
       "  <tbody>\n",
       "    <tr>\n",
       "      <th>0</th>\n",
       "      <td>chebyshev</td>\n",
       "      <td>1</td>\n",
       "      <td>0.694036</td>\n",
       "      <td>0.056687</td>\n",
       "      <td>0.559071</td>\n",
       "      <td>0.074112</td>\n",
       "      <td>0.556199</td>\n",
       "      <td>0.078424</td>\n",
       "      <td>0.553216</td>\n",
       "      <td>0.061748</td>\n",
       "    </tr>\n",
       "    <tr>\n",
       "      <th>1</th>\n",
       "      <td>chebyshev</td>\n",
       "      <td>3</td>\n",
       "      <td>0.712201</td>\n",
       "      <td>0.056797</td>\n",
       "      <td>0.602214</td>\n",
       "      <td>0.085086</td>\n",
       "      <td>0.512870</td>\n",
       "      <td>0.077162</td>\n",
       "      <td>0.548906</td>\n",
       "      <td>0.063166</td>\n",
       "    </tr>\n",
       "    <tr>\n",
       "      <th>2</th>\n",
       "      <td>chebyshev</td>\n",
       "      <td>5</td>\n",
       "      <td>0.718694</td>\n",
       "      <td>0.054799</td>\n",
       "      <td>0.616979</td>\n",
       "      <td>0.104247</td>\n",
       "      <td>0.522678</td>\n",
       "      <td>0.082546</td>\n",
       "      <td>0.558304</td>\n",
       "      <td>0.069246</td>\n",
       "    </tr>\n",
       "    <tr>\n",
       "      <th>3</th>\n",
       "      <td>chebyshev</td>\n",
       "      <td>7</td>\n",
       "      <td>0.734279</td>\n",
       "      <td>0.058361</td>\n",
       "      <td>0.645917</td>\n",
       "      <td>0.131986</td>\n",
       "      <td>0.543537</td>\n",
       "      <td>0.075573</td>\n",
       "      <td>0.582923</td>\n",
       "      <td>0.084124</td>\n",
       "    </tr>\n",
       "    <tr>\n",
       "      <th>4</th>\n",
       "      <td>distance_cw2</td>\n",
       "      <td>1</td>\n",
       "      <td>0.619771</td>\n",
       "      <td>0.068506</td>\n",
       "      <td>0.464564</td>\n",
       "      <td>0.142022</td>\n",
       "      <td>0.425406</td>\n",
       "      <td>0.042128</td>\n",
       "      <td>0.437320</td>\n",
       "      <td>0.089030</td>\n",
       "    </tr>\n",
       "    <tr>\n",
       "      <th>5</th>\n",
       "      <td>distance_cw2</td>\n",
       "      <td>3</td>\n",
       "      <td>0.660048</td>\n",
       "      <td>0.050039</td>\n",
       "      <td>0.503874</td>\n",
       "      <td>0.134158</td>\n",
       "      <td>0.339968</td>\n",
       "      <td>0.100546</td>\n",
       "      <td>0.401993</td>\n",
       "      <td>0.112604</td>\n",
       "    </tr>\n",
       "    <tr>\n",
       "      <th>6</th>\n",
       "      <td>distance_cw2</td>\n",
       "      <td>5</td>\n",
       "      <td>0.669293</td>\n",
       "      <td>0.060825</td>\n",
       "      <td>0.545655</td>\n",
       "      <td>0.107185</td>\n",
       "      <td>0.353920</td>\n",
       "      <td>0.060850</td>\n",
       "      <td>0.422251</td>\n",
       "      <td>0.057719</td>\n",
       "    </tr>\n",
       "    <tr>\n",
       "      <th>7</th>\n",
       "      <td>distance_cw2</td>\n",
       "      <td>7</td>\n",
       "      <td>0.671839</td>\n",
       "      <td>0.062574</td>\n",
       "      <td>0.556063</td>\n",
       "      <td>0.112229</td>\n",
       "      <td>0.309734</td>\n",
       "      <td>0.093987</td>\n",
       "      <td>0.388699</td>\n",
       "      <td>0.079221</td>\n",
       "    </tr>\n",
       "    <tr>\n",
       "      <th>8</th>\n",
       "      <td>euclidean</td>\n",
       "      <td>1</td>\n",
       "      <td>0.691422</td>\n",
       "      <td>0.042329</td>\n",
       "      <td>0.558117</td>\n",
       "      <td>0.105463</td>\n",
       "      <td>0.560156</td>\n",
       "      <td>0.060781</td>\n",
       "      <td>0.552594</td>\n",
       "      <td>0.073707</td>\n",
       "    </tr>\n",
       "    <tr>\n",
       "      <th>9</th>\n",
       "      <td>euclidean</td>\n",
       "      <td>3</td>\n",
       "      <td>0.729152</td>\n",
       "      <td>0.053510</td>\n",
       "      <td>0.623217</td>\n",
       "      <td>0.151162</td>\n",
       "      <td>0.529626</td>\n",
       "      <td>0.096460</td>\n",
       "      <td>0.569877</td>\n",
       "      <td>0.119829</td>\n",
       "    </tr>\n",
       "    <tr>\n",
       "      <th>10</th>\n",
       "      <td>euclidean</td>\n",
       "      <td>5</td>\n",
       "      <td>0.734364</td>\n",
       "      <td>0.052891</td>\n",
       "      <td>0.629810</td>\n",
       "      <td>0.130790</td>\n",
       "      <td>0.557299</td>\n",
       "      <td>0.097314</td>\n",
       "      <td>0.585932</td>\n",
       "      <td>0.104317</td>\n",
       "    </tr>\n",
       "    <tr>\n",
       "      <th>11</th>\n",
       "      <td>euclidean</td>\n",
       "      <td>7</td>\n",
       "      <td>0.744737</td>\n",
       "      <td>0.052686</td>\n",
       "      <td>0.659935</td>\n",
       "      <td>0.141071</td>\n",
       "      <td>0.550987</td>\n",
       "      <td>0.099040</td>\n",
       "      <td>0.592809</td>\n",
       "      <td>0.106174</td>\n",
       "    </tr>\n",
       "    <tr>\n",
       "      <th>12</th>\n",
       "      <td>manhattan</td>\n",
       "      <td>1</td>\n",
       "      <td>0.690140</td>\n",
       "      <td>0.066401</td>\n",
       "      <td>0.564494</td>\n",
       "      <td>0.129886</td>\n",
       "      <td>0.551674</td>\n",
       "      <td>0.056582</td>\n",
       "      <td>0.551152</td>\n",
       "      <td>0.082371</td>\n",
       "    </tr>\n",
       "    <tr>\n",
       "      <th>13</th>\n",
       "      <td>manhattan</td>\n",
       "      <td>3</td>\n",
       "      <td>0.691473</td>\n",
       "      <td>0.059000</td>\n",
       "      <td>0.572220</td>\n",
       "      <td>0.137771</td>\n",
       "      <td>0.513637</td>\n",
       "      <td>0.055723</td>\n",
       "      <td>0.534459</td>\n",
       "      <td>0.093365</td>\n",
       "    </tr>\n",
       "    <tr>\n",
       "      <th>14</th>\n",
       "      <td>manhattan</td>\n",
       "      <td>5</td>\n",
       "      <td>0.729152</td>\n",
       "      <td>0.060287</td>\n",
       "      <td>0.623481</td>\n",
       "      <td>0.126292</td>\n",
       "      <td>0.581775</td>\n",
       "      <td>0.081663</td>\n",
       "      <td>0.594933</td>\n",
       "      <td>0.094910</td>\n",
       "    </tr>\n",
       "    <tr>\n",
       "      <th>15</th>\n",
       "      <td>manhattan</td>\n",
       "      <td>7</td>\n",
       "      <td>0.738243</td>\n",
       "      <td>0.058724</td>\n",
       "      <td>0.645894</td>\n",
       "      <td>0.121466</td>\n",
       "      <td>0.558926</td>\n",
       "      <td>0.083805</td>\n",
       "      <td>0.592770</td>\n",
       "      <td>0.086480</td>\n",
       "    </tr>\n",
       "  </tbody>\n",
       "</table>\n",
       "</div>"
      ],
      "text/plain": [
       "   Distance metric  n_neighbours  Avg_Accuracy  Accuracy SD  Avg_Precision  \\\n",
       "0        chebyshev             1      0.694036     0.056687       0.559071   \n",
       "1        chebyshev             3      0.712201     0.056797       0.602214   \n",
       "2        chebyshev             5      0.718694     0.054799       0.616979   \n",
       "3        chebyshev             7      0.734279     0.058361       0.645917   \n",
       "4     distance_cw2             1      0.619771     0.068506       0.464564   \n",
       "5     distance_cw2             3      0.660048     0.050039       0.503874   \n",
       "6     distance_cw2             5      0.669293     0.060825       0.545655   \n",
       "7     distance_cw2             7      0.671839     0.062574       0.556063   \n",
       "8        euclidean             1      0.691422     0.042329       0.558117   \n",
       "9        euclidean             3      0.729152     0.053510       0.623217   \n",
       "10       euclidean             5      0.734364     0.052891       0.629810   \n",
       "11       euclidean             7      0.744737     0.052686       0.659935   \n",
       "12       manhattan             1      0.690140     0.066401       0.564494   \n",
       "13       manhattan             3      0.691473     0.059000       0.572220   \n",
       "14       manhattan             5      0.729152     0.060287       0.623481   \n",
       "15       manhattan             7      0.738243     0.058724       0.645894   \n",
       "\n",
       "    Precision SD  Avg_Recall  Recall SD  Avg_F1_score  F1_score SD  \n",
       "0       0.074112    0.556199   0.078424      0.553216     0.061748  \n",
       "1       0.085086    0.512870   0.077162      0.548906     0.063166  \n",
       "2       0.104247    0.522678   0.082546      0.558304     0.069246  \n",
       "3       0.131986    0.543537   0.075573      0.582923     0.084124  \n",
       "4       0.142022    0.425406   0.042128      0.437320     0.089030  \n",
       "5       0.134158    0.339968   0.100546      0.401993     0.112604  \n",
       "6       0.107185    0.353920   0.060850      0.422251     0.057719  \n",
       "7       0.112229    0.309734   0.093987      0.388699     0.079221  \n",
       "8       0.105463    0.560156   0.060781      0.552594     0.073707  \n",
       "9       0.151162    0.529626   0.096460      0.569877     0.119829  \n",
       "10      0.130790    0.557299   0.097314      0.585932     0.104317  \n",
       "11      0.141071    0.550987   0.099040      0.592809     0.106174  \n",
       "12      0.129886    0.551674   0.056582      0.551152     0.082371  \n",
       "13      0.137771    0.513637   0.055723      0.534459     0.093365  \n",
       "14      0.126292    0.581775   0.081663      0.594933     0.094910  \n",
       "15      0.121466    0.558926   0.083805      0.592770     0.086480  "
      ]
     },
     "execution_count": 9,
     "metadata": {},
     "output_type": "execute_result"
    }
   ],
   "source": [
    "fold_avg = k_fold_performance.groupby(['Distance metric','n_neighbours'])[['Accuracy','Precision','Recall','F1_score']].mean().reset_index()\n",
    "fold_std = k_fold_performance.groupby(['Distance metric','n_neighbours'])[['Accuracy','Precision','Recall','F1_score']].std().reset_index()\n",
    "\n",
    "fold_avg['Accuracy SD']=fold_std['Accuracy']\n",
    "fold_avg['Precision SD']=fold_std['Precision']\n",
    "fold_avg['Recall SD']=fold_std['Recall']\n",
    "fold_avg['F1_score SD']=fold_std['F1_score']\n",
    "fold_avg.rename(columns={\"Accuracy\": \"Avg_Accuracy\", \"Precision\": \"Avg_Precision\",\"Recall\":\"Avg_Recall\",\"F1_score\":\"Avg_F1_score\"},inplace=True)\n",
    "print('\\tDistance and n_neighbours with various metrics')\n",
    "fold_avg[['Distance metric','n_neighbours','Avg_Accuracy','Accuracy SD','Avg_Precision','Precision SD','Avg_Recall','Recall SD','Avg_F1_score','F1_score SD']]"
   ]
  },
  {
   "cell_type": "code",
   "execution_count": 10,
   "metadata": {},
   "outputs": [
    {
     "name": "stdout",
     "output_type": "stream",
     "text": [
      "\tDistance with its overall accuracy and Standard deviation \n",
      "\t We see overall Euclidean performs the best \n"
     ]
    },
    {
     "data": {
      "text/html": [
       "<div>\n",
       "<style scoped>\n",
       "    .dataframe tbody tr th:only-of-type {\n",
       "        vertical-align: middle;\n",
       "    }\n",
       "\n",
       "    .dataframe tbody tr th {\n",
       "        vertical-align: top;\n",
       "    }\n",
       "\n",
       "    .dataframe thead th {\n",
       "        text-align: right;\n",
       "    }\n",
       "</style>\n",
       "<table border=\"1\" class=\"dataframe\">\n",
       "  <thead>\n",
       "    <tr style=\"text-align: right;\">\n",
       "      <th></th>\n",
       "      <th>Distance metric</th>\n",
       "      <th>Accuracy</th>\n",
       "      <th>Average SD</th>\n",
       "    </tr>\n",
       "  </thead>\n",
       "  <tbody>\n",
       "    <tr>\n",
       "      <th>0</th>\n",
       "      <td>chebyshev</td>\n",
       "      <td>0.714803</td>\n",
       "      <td>0.056378</td>\n",
       "    </tr>\n",
       "    <tr>\n",
       "      <th>1</th>\n",
       "      <td>distance_cw2</td>\n",
       "      <td>0.655238</td>\n",
       "      <td>0.062193</td>\n",
       "    </tr>\n",
       "    <tr>\n",
       "      <th>2</th>\n",
       "      <td>euclidean</td>\n",
       "      <td>0.724919</td>\n",
       "      <td>0.052690</td>\n",
       "    </tr>\n",
       "    <tr>\n",
       "      <th>3</th>\n",
       "      <td>manhattan</td>\n",
       "      <td>0.712252</td>\n",
       "      <td>0.062753</td>\n",
       "    </tr>\n",
       "  </tbody>\n",
       "</table>\n",
       "</div>"
      ],
      "text/plain": [
       "  Distance metric  Accuracy  Average SD\n",
       "0       chebyshev  0.714803    0.056378\n",
       "1    distance_cw2  0.655238    0.062193\n",
       "2       euclidean  0.724919    0.052690\n",
       "3       manhattan  0.712252    0.062753"
      ]
     },
     "execution_count": 10,
     "metadata": {},
     "output_type": "execute_result"
    }
   ],
   "source": [
    "overall_avg = k_fold_performance.groupby(['Distance metric'])[['Accuracy']].mean().reset_index()\n",
    "overall_std = k_fold_performance.groupby(['Distance metric'])[['Accuracy']].std().reset_index()\n",
    "overall_avg['Average SD']=overall_std['Accuracy']\n",
    "overall_avg.rename(columns={\"Accuracy\": \"Avg_Accuracy\"})\n",
    "print('\\tDistance with its overall accuracy and Standard deviation \\n\\t We see overall Euclidean performs the best ')\n",
    "overall_avg"
   ]
  },
  {
   "cell_type": "markdown",
   "metadata": {},
   "source": [
    "#### 1.5) Visualize the results"
   ]
  },
  {
   "cell_type": "code",
   "execution_count": 11,
   "metadata": {},
   "outputs": [
    {
     "data": {
      "image/png": "[encoded data removed]",
      "text/plain": [
       "<Figure size 432x288 with 1 Axes>"
      ]
     },
     "metadata": {
      "needs_background": "light"
     },
     "output_type": "display_data"
    }
   ],
   "source": [
    "palette = sns.color_palette(\"hls\",4)\n",
    "# ch1 = sns.lineplot(data=k_fold_performance,y='F1_score',x='Split',hue='n_neighbours',palette=palette)\n",
    "ch1 = sns.barplot(data=fold_avg,y='Avg_F1_score',x='n_neighbours',hue='Distance metric',palette=palette)\n",
    "plt.legend(bbox_to_anchor=(1.05, 1), loc=2, borderaxespad=0.)\n",
    "# ch1.set(ylim=(0, 1))\n",
    "plt.title('F1 score comparison')\n",
    "plt.show()"
   ]
  },
  {
   "cell_type": "markdown",
   "metadata": {},
   "source": [
    "#### Overall for 7 neighbours euclidean performs best in terms of Accuracy and F1 Score. Hence we can finalize the the same model. "
   ]
  },
  {
   "cell_type": "markdown",
   "metadata": {},
   "source": [
    "   ## Taks 2 Impact of Noise "
   ]
  },
  {
   "cell_type": "markdown",
   "metadata": {},
   "source": [
    "#### 2.1) Function for Multimodel (KNN, DT, MLP) evaluation"
   ]
  },
  {
   "cell_type": "code",
   "execution_count": 12,
   "metadata": {
    "scrolled": true
   },
   "outputs": [
    {
     "name": "stdout",
     "output_type": "stream",
     "text": [
      "Wall time: 0 ns\n"
     ]
    }
   ],
   "source": [
    "%%time\n",
    "\n",
    "def noise_models(no_of_random_state,noise):\n",
    "    \n",
    "    dt=[]\n",
    "    for rand in range(0,no_of_random_state):\n",
    "\n",
    "        for i in range(noise[0],noise[1]+1,noise[2]):\n",
    "            \n",
    "            noise_per = int(i*len(train)/100) # Generate noise percent based on parameters\n",
    "\n",
    "            train_X = train.iloc[:,:-1]\n",
    "            train_y = train.iloc[:,-1:]\n",
    "            \n",
    "            if i>0: # Creating error wrt noise percent \n",
    "                x_train, x_test, y_train, y_noise = train_test_split(train_X, train_y, test_size=noise_per ,random_state=rand)\n",
    "                y_noise = y_noise['class'].apply(lambda x: 0 if x>0 else 1).to_frame()\n",
    "                train_X = pd.concat([x_train,x_test])\n",
    "                train_y = pd.concat([y_train,y_noise])\n",
    "\n",
    "            scaler = StandardScaler()\n",
    "            scaled_train_X = scaler.fit_transform(train_X) # Scale train set for training \n",
    "            scaled_test_X = scaler.transform(test_X) # Scale test set before prediction\n",
    "\n",
    "            # K Nearest Neighbors model \n",
    "            KNN = KNeighborsClassifier(n_neighbors=5,weights='distance')\n",
    "            KNN = KNN.fit(scaled_train_X,train_y)\n",
    "            pred_y = KNN.predict(scaled_test_X)\n",
    "\n",
    "            dt.append(('KNN',i,noise_per,rand,accuracy_score(test_y, pred_y),precision_score(test_y, pred_y),recall_score(test_y, pred_y),f1_score(test_y, pred_y)))\n",
    "            \n",
    "            # Decision Tree model \n",
    "            DT = DecisionTreeClassifier()\n",
    "            DT = DT.fit(scaled_train_X,train_y)\n",
    "            pred_y = DT.predict(scaled_test_X)\n",
    "\n",
    "            dt.append(('DT',i,noise_per,rand,accuracy_score(test_y, pred_y),precision_score(test_y, pred_y),recall_score(test_y, pred_y),f1_score(test_y, pred_y)))\n",
    "            \n",
    "            # Deep Neural Network\n",
    "            clf = MLPClassifier(hidden_layer_sizes=(8,3)).fit(scaled_train_X, train_y)\n",
    "            pred_y = clf.predict(scaled_test_X)\n",
    "\n",
    "            dt.append(('MLP',i,noise_per,rand,accuracy_score(test_y, pred_y),precision_score(test_y, pred_y),recall_score(test_y, pred_y),f1_score(test_y, pred_y)))\n",
    "\n",
    "    cols=['Model','Noise_per','Random_state','Records_modified','Accuracy','Precision','Recall','F1_score']\n",
    "    dt = pd.DataFrame(dt, columns=cols)\n",
    "    return dt"
   ]
  },
  {
   "cell_type": "markdown",
   "metadata": {},
   "source": [
    "#### 2.2) Call the function to generate results"
   ]
  },
  {
   "cell_type": "code",
   "execution_count": 13,
   "metadata": {},
   "outputs": [],
   "source": [
    "# noise_model(no_of_random_state,[start_per,stop_per,increment])\n",
    "dt = noise_models(50,[0,30,2])"
   ]
  },
  {
   "cell_type": "markdown",
   "metadata": {},
   "source": [
    "#### 2.3)Visualise the data"
   ]
  },
  {
   "cell_type": "code",
   "execution_count": 14,
   "metadata": {
    "scrolled": true
   },
   "outputs": [],
   "source": [
    "# Aggregating results \n",
    "results = dt.groupby(['Model','Noise_per'])[['Accuracy','Precision','Recall','F1_score']].mean().reset_index()\n",
    "tp = dt.groupby(['Model'])[['Accuracy','F1_score']].mean().reset_index()"
   ]
  },
  {
   "cell_type": "code",
   "execution_count": 15,
   "metadata": {
    "scrolled": true
   },
   "outputs": [],
   "source": [
    "# Chart data preparation \n",
    "s = []\n",
    "for i in range(0,len(tp)):\n",
    "    for p in range(0,31):\n",
    "        s.append((p,tp['Model'][i],tp['Accuracy'][i],tp['F1_score'][i]))\n",
    "\n",
    "col = ['idx','Model', 'Accuracy','F1_score'] \n",
    "s = pd.DataFrame(s,columns=col)\n",
    "s['Model'].replace(s['Model'].values,s['Model']+' overall avg F1 score', inplace = True)\n",
    "results['Model'].replace(results['Model'].values,results['Model']+' accuracy line', inplace = True)"
   ]
  },
  {
   "cell_type": "code",
   "execution_count": 16,
   "metadata": {
    "scrolled": true
   },
   "outputs": [
    {
     "data": {
      "image/png": "[encoded data removed]",
      "text/plain": [
       "<Figure size 432x288 with 1 Axes>"
      ]
     },
     "metadata": {
      "needs_background": "light"
     },
     "output_type": "display_data"
    }
   ],
   "source": [
    "# Seaborn chart comparing how percent of errors affecting the accuracy and F1 score\n",
    "palette = sns.color_palette(\"hls\",4)\n",
    "ch1 = sns.lineplot(data=results,y='Accuracy',x='Noise_per',hue='Model')\n",
    "# ch1.set(ylim=(0.3, 0.8))\n",
    "ch2 = sns.scatterplot(s['idx'],s['F1_score'],hue=s['Model'], style=s['Model'])\n",
    "plt.legend(bbox_to_anchor=(1.05, 1), loc=2, borderaxespad=0.)\n",
    "plt.title('Performance VS Noise percent')\n",
    "\n",
    "plt.show()"
   ]
  },
  {
   "cell_type": "markdown",
   "metadata": {},
   "source": [
    "   ## Taks 3 [Justification]"
   ]
  },
  {
   "cell_type": "markdown",
   "metadata": {},
   "source": [
    "### Reflection on results"
   ]
  },
  {
   "cell_type": "markdown",
   "metadata": {},
   "source": [
    "#### Task 1"
   ]
  },
  {
   "cell_type": "markdown",
   "metadata": {},
   "source": [
    "Various Distance metrics is compared with different neighbours and 10 folds in task 1. Data is processed by label encoding of the dependent variable, replace medium value for columns where 0 not possible for example mass, skin and standardize the data using standard scaler explicitly for KNN. From 1.4 table(Accuracy and SD) we can infer that Euclidian distance performs better than other combinations in terms of accuracy and F1 score in multiple folds. This is also evident in the chart in 1.5 which compares F1 score of all four distance functions across n neighbours. For some combinations it be seen that accuracy crosses 80% yet those models can be overfitting on the train data. Manhattan is the second best but user defined distance function is performing bad since it is considering only 3 random independent variable each time distance is calculated. Advantage is that it simple to create model but the learning can be better when other algorithms like neural network, bagging and boosting methods with the expense of data. Importantly the data is very minimal when it is increased better accuracy can be obtained."
   ]
  },
  {
   "cell_type": "markdown",
   "metadata": {},
   "source": [
    "#### Task 2"
   ]
  },
  {
   "cell_type": "markdown",
   "metadata": {},
   "source": [
    "Noise being created for task2_train set with 2% increment up to 30%. It is inferred from the graph 2.3 that more the noise the test accuracy tends to go down for almost all three models. It is because the model is learning with wrong data labels and fails when predicting the test set. This makes removing of noise from the training set a crucial part. In addition, it is advisable to standardize the data in case of KNN as we apply distance function because higher magnitude variable can nullify the  smaller ones(age and salary). Also in Neural Network unscaled data can result in slow convergence and unstable learning. \n",
    "\n",
    "\n",
    "When we compare the model performance deep neural network(DNN) found be having accuracy in most noise percent. The performance increased considerably after standardization. Furthermore hyperparameter tuning such as increasing layers, dropouts, batch size, validation set can improve the model efficiency in DNN. In Decision tree (DT) changing depth, criterion, sample split   and in KNN changing neighbours can improve results. Scarcity of data is the major problem in lower scores. Taking in more refined data by volume can enable algorithms to learn better and in turn improve accuracy. Model optimization technique such as Bayesian optimization can also improve model performance. \n"
   ]
  }
 ],
 "metadata": {
  "kernelspec": {
   "display_name": "Python 3",
   "language": "python",
   "name": "python3"
  },
  "language_info": {
   "codemirror_mode": {
    "name": "ipython",
    "version": 3
   },
   "file_extension": ".py",
   "mimetype": "text/x-python",
   "name": "python",
   "nbconvert_exporter": "python",
   "pygments_lexer": "ipython3",
   "version": "3.8.3"
  }
 },
 "nbformat": 4,
 "nbformat_minor": 2
}
